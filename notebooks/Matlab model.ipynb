{
 "cells": [
  {
   "cell_type": "code",
   "execution_count": 1,
   "id": "06401588",
   "metadata": {},
   "outputs": [],
   "source": [
    "import numpy as np\n",
    "import matplotlib.pyplot as plt\n",
    "import math\n",
    "import forward\n",
    "\n",
    "\n",
    "from SimPEG import (\n",
    "    maps,\n",
    "    data,\n",
    "    data_misfit,\n",
    "    regularization,\n",
    "    optimization,\n",
    "    inverse_problem,\n",
    "    inversion,\n",
    "    directives,\n",
    "    utils,\n",
    ")\n",
    "from SimPEG import maps\n",
    "from SimPEG.electromagnetics.static import resistivity as dc\n",
    "from SimPEG.utils import plot_1d_layer_model\n"
   ]
  },
  {
   "cell_type": "markdown",
   "id": "4b23fb10",
   "metadata": {},
   "source": [
    "## Translated forward model from matlab files"
   ]
  },
  {
   "cell_type": "code",
   "execution_count": 2,
   "id": "cc60d08f",
   "metadata": {},
   "outputs": [],
   "source": [
    "# Layout -------L-------\n",
    "#           ---l---\n",
    "## A        M       N       B\n",
    "#  ---r1--\n",
    "#          --------r2-------\n",
    "#  --------r3-------\n",
    "#                    ---r4--"
   ]
  },
  {
   "cell_type": "code",
   "execution_count": 3,
   "id": "a36b98c8",
   "metadata": {},
   "outputs": [],
   "source": [
    "# Setup starting model and initial guess\n",
    "params=[200, 500, 300, 100, 1, 3, 2]\n",
    "b_0 = [250, 490, 250, 200, 1.5, 4, 1]\n",
    "\n",
    "# Make your measurements\n",
    "number_of_measurements=100\n",
    "L = np.logspace(0.1, 3, number_of_measurements) \n",
    "l = 0.01*L \n",
    "\n",
    "#Schlumberger Geometry \n",
    "r1 = L-l  \n",
    "r2 = L+l  \n",
    "r3 = L+l   \n",
    "r4 = L-l  \n",
    "\n",
    "# Get the simulated data\n",
    "rho_semu = forward.ves_forward(params, L)"
   ]
  },
  {
   "cell_type": "markdown",
   "id": "d68459dd",
   "metadata": {},
   "source": [
    "# SimPeg Forward Model"
   ]
  },
  {
   "cell_type": "markdown",
   "id": "58123d6d",
   "metadata": {},
   "source": [
    "## Forward Simulation - Example from generated data from matlab code"
   ]
  },
  {
   "cell_type": "code",
   "execution_count": 4,
   "id": "9971e0b1",
   "metadata": {},
   "outputs": [],
   "source": [
    "# Define the 'a' spacing for Schlumberger array measurements for each reading\n",
    "number_of_measurements=100\n",
    "a_b_electrode_separations = np.logspace(0.1, 3, number_of_measurements)\n",
    "m_n_electrode_separations = 0.01 * a_b_electrode_separations \n",
    "\n",
    "# AB Half electrode spacing\n",
    "half_electrode_spacing= [250, 490, 250, 200, 1.5, 4, 1]\n",
    "\n",
    "\n",
    "source_list = []  # create empty array for sources to live\n",
    "\n",
    "for ab, mn in zip(a_b_electrode_separations, m_n_electrode_separations):\n",
    "\n",
    "\n",
    "    # AB electrode locations for source. Each is a (1, 3) numpy array\n",
    "    A_location = np.r_[-ab, 0.0, 0.0]\n",
    "    B_location = np.r_[ab, 0.0, 0.0]\n",
    "\n",
    "    # MN electrode locations for receivers. Each is an (N, 3) numpy array\n",
    "    M_location = np.r_[-mn, 0.0, 0.0]\n",
    "    N_location = np.r_[mn, 0.0, 0.0]\n",
    "\n",
    "    # Create receivers list. Define as pole or dipole.\n",
    "    receiver_list = dc.receivers.Dipole(\n",
    "        M_location, N_location, data_type=\"apparent_resistivity\"\n",
    "    )\n",
    "    receiver_list = [receiver_list]\n",
    "\n",
    "    # Define the source properties and associated receivers\n",
    "    source_list.append(dc.sources.Dipole(receiver_list, A_location, B_location))\n",
    "\n",
    "# Define survey\n",
    "survey = dc.Survey(source_list)"
   ]
  },
  {
   "cell_type": "code",
   "execution_count": 5,
   "id": "febbd2af",
   "metadata": {},
   "outputs": [],
   "source": [
    "# Define layer thicknesses.\n",
    "layer_thicknesses = np.r_[1, 3, 2]\n",
    "\n",
    "# Define layer resistivities.\n",
    "model = np.r_[200, 500, 300, 100]\n",
    "\n",
    "# Define mapping from model to 1D layers.\n",
    "model_map = maps.IdentityMap(nP=len(model))"
   ]
  },
  {
   "cell_type": "code",
   "execution_count": 6,
   "id": "6635a609",
   "metadata": {},
   "outputs": [],
   "source": [
    "simulation = dc.simulation_1d.Simulation1DLayers(\n",
    "    survey=survey,\n",
    "    rhoMap=model_map,\n",
    "    thicknesses=layer_thicknesses,\n",
    ")\n",
    "\n",
    "# Predict data for a given model\n",
    "dpred = simulation.dpred(model)\n"
   ]
  },
  {
   "cell_type": "code",
   "execution_count": 7,
   "id": "2339535f",
   "metadata": {},
   "outputs": [
    {
     "data": {
      "image/png": "[encoded data removed]",
      "text/plain": [
       "<Figure size 792x360 with 1 Axes>"
      ]
     },
     "metadata": {
      "needs_background": "light"
     },
     "output_type": "display_data"
    }
   ],
   "source": [
    "\n",
    "# Plot apparent resistivities on sounding curve# Plot apparent resistivities on sounding curve\n",
    "fig = plt.figure(figsize=(11, 5))\n",
    "ax1 = fig.add_axes([0.1, 0.1, 0.75, 0.85])\n",
    "\n",
    "ax1.plot(a_b_electrode_separations, dpred, \"b--\")\n",
    "ax1.plot(a_b_electrode_separations, rho_semu, \"r--\")\n",
    "ax1.plot()\n",
    "ax1.set_xscale('log')\n",
    "ax1.set_xlabel(\"AB/2 (m)\")\n",
    "ax1.set_ylabel(r\"Apparent Resistivity ($\\Omega m$)\")\n",
    "plt.show()\n"
   ]
  }
 ],
 "metadata": {
  "kernelspec": {
   "display_name": "Python 3 (ipykernel)",
   "language": "python",
   "name": "python3"
  },
  "language_info": {
   "codemirror_mode": {
    "name": "ipython",
    "version": 3
   },
   "file_extension": ".py",
   "mimetype": "text/x-python",
   "name": "python",
   "nbconvert_exporter": "python",
   "pygments_lexer": "ipython3",
   "version": "3.9.12"
  }
 },
 "nbformat": 4,
 "nbformat_minor": 5
}
