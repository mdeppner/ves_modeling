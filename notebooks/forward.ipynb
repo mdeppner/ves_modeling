{
 "cells": [
  {
   "cell_type": "code",
   "execution_count": 1,
   "id": "initial_id",
   "metadata": {
    "collapsed": true,
    "ExecuteTime": {
     "end_time": "2023-12-04T09:34:47.871003200Z",
     "start_time": "2023-12-04T09:34:45.838998800Z"
    }
   },
   "outputs": [],
   "source": [
    "import numpy as np\n",
    "import matplotlib.pyplot as plt\n",
    "import math\n",
    "import forward\n"
   ]
  },
  {
   "cell_type": "code",
   "execution_count": 3,
   "outputs": [],
   "source": [
    "# Layout -------L-------\n",
    "#           ---l---\n",
    "## A        M       N       B\n",
    "#  ---r1--\n",
    "#          --------r2-------\n",
    "#  --------r3-------\n",
    "#                    ---r4--"
   ],
   "metadata": {
    "collapsed": false,
    "ExecuteTime": {
     "end_time": "2023-12-04T09:07:08.561540200Z",
     "start_time": "2023-12-04T09:07:07.860524900Z"
    }
   },
   "id": "bbd3dfd60390a651"
  },
  {
   "cell_type": "code",
   "execution_count": 2,
   "outputs": [],
   "source": [
    "# Setup starting model and initial guess\n",
    "params=[200, 500, 300, 100, 1, 3, 2]\n",
    "b_0 = [250, 490, 250, 200, 1.5, 4, 1]\n",
    "\n",
    "# Make your measurements\n",
    "number_of_measurements=100\n",
    "L = np.logspace(0.1, 3, number_of_measurements) \n",
    "l = 0.01*L \n",
    "\n",
    "#Schlumberger Geometry \n",
    "r1 = L-l  \n",
    "r2 = L+l  \n",
    "r3 = L+l   \n",
    "r4 = L-l  \n",
    "\n",
    "# Get the simulated data\n",
    "rho_semu = forward.ves_forward(params, L)"
   ],
   "metadata": {
    "collapsed": false,
    "ExecuteTime": {
     "end_time": "2023-12-04T09:34:50.239001200Z",
     "start_time": "2023-12-04T09:34:50.033002Z"
    }
   },
   "id": "118a6903dba4cec9"
  },
  {
   "cell_type": "code",
   "execution_count": 3,
   "outputs": [
    {
     "data": {
      "text/plain": "array([[227.55041881],\n       [231.80162758],\n       [236.50465699],\n       [241.65852177],\n       [247.25086424],\n       [253.25711659],\n       [259.64020672],\n       [266.35081808],\n       [273.32815209],\n       [280.50108847],\n       [287.78960288],\n       [295.10628781],\n       [302.35783378],\n       [309.44635955],\n       [316.27052794],\n       [322.72643897],\n       [328.7083467 ],\n       [334.10929335],\n       [338.82178801],\n       [342.73867471],\n       [345.75433379],\n       [347.76634246],\n       [348.67768541],\n       [348.39955752],\n       [346.8547403 ],\n       [343.98146436],\n       [339.73759641],\n       [334.10491521],\n       [327.09317254],\n       [318.74358051],\n       [309.13133388],\n       [298.36677665],\n       [286.5948632 ],\n       [273.99265411],\n       [260.76472399],\n       [247.13653766],\n       [233.34605519],\n       [219.63403236],\n       [206.23366265],\n       [193.36033092],\n       [181.20229331],\n       [169.91304919],\n       [159.60602922],\n       [150.35200291],\n       [142.17933797],\n       [135.0769584 ],\n       [128.99958706],\n       [123.87465661],\n       [119.6101539 ],\n       [116.1026382 ],\n       [113.24473968],\n       [110.9315829 ],\n       [109.06576719],\n       [107.56073904],\n       [106.34258457],\n       [105.35042783],\n       [104.53572898],\n       [103.86082927],\n       [103.29709063],\n       [102.8229361 ],\n       [102.42202778],\n       [102.08173601],\n       [101.79197203],\n       [101.5443864 ],\n       [101.33188438],\n       [101.14837981],\n       [100.98869956],\n       [100.84855785],\n       [100.72453755],\n       [100.61403963],\n       [100.51518494],\n       [100.42667267],\n       [100.34761313],\n       [100.27735853],\n       [100.21535532],\n       [100.16103615],\n       [100.11376092],\n       [100.07280719],\n       [100.03740181],\n       [100.00678   ],\n       [ 99.98025508],\n       [ 99.95728248],\n       [ 99.93750499],\n       [ 99.92077071],\n       [ 99.90712096],\n       [ 99.8967509 ],\n       [ 99.88994965],\n       [ 99.88702949],\n       [ 99.88825463],\n       [ 99.89377911],\n       [ 99.90360107],\n       [ 99.91753797],\n       [ 99.9352238 ],\n       [ 99.95612635],\n       [ 99.97958072],\n       [100.00483322],\n       [100.0310901 ],\n       [100.05756519],\n       [100.08352223],\n       [100.10830855]])"
     },
     "execution_count": 3,
     "metadata": {},
     "output_type": "execute_result"
    }
   ],
   "source": [
    "rho_semu"
   ],
   "metadata": {
    "collapsed": false,
    "ExecuteTime": {
     "end_time": "2023-12-04T09:34:52.582002100Z",
     "start_time": "2023-12-04T09:34:52.504998100Z"
    }
   },
   "id": "4fb153ce4a291097"
  },
  {
   "cell_type": "code",
   "execution_count": null,
   "outputs": [],
   "source": [],
   "metadata": {
    "collapsed": false
   },
   "id": "a6ceb746f8eac1f2"
  },
  {
   "cell_type": "code",
   "execution_count": null,
   "outputs": [],
   "source": [],
   "metadata": {
    "collapsed": false
   },
   "id": "f83956c545d3849"
  }
 ],
 "metadata": {
  "kernelspec": {
   "display_name": "Python 3",
   "language": "python",
   "name": "python3"
  },
  "language_info": {
   "codemirror_mode": {
    "name": "ipython",
    "version": 2
   },
   "file_extension": ".py",
   "mimetype": "text/x-python",
   "name": "python",
   "nbconvert_exporter": "python",
   "pygments_lexer": "ipython2",
   "version": "2.7.6"
  }
 },
 "nbformat": 4,
 "nbformat_minor": 5
}
