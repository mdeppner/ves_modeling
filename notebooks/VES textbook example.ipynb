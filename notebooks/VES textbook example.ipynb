{
 "cells": [
  {
   "cell_type": "markdown",
   "id": "7e6e0dce",
   "metadata": {},
   "source": [
    "# Vertical Electrical Sounding\n",
    "\n",
    "## 1D DC Resistivity Forwad Model"
   ]
  },
  {
   "cell_type": "code",
   "execution_count": 1,
   "id": "1a4a943e",
   "metadata": {
    "scrolled": true
   },
   "outputs": [],
   "source": [
    "# In case you need to install SimPEG comment out the following line for installation\n",
    "\n",
    "#!pip install SimPEG --ignore-installed"
   ]
  },
  {
   "cell_type": "code",
   "execution_count": 2,
   "id": "55a76e86",
   "metadata": {},
   "outputs": [],
   "source": [
    "import numpy as np\n",
    "import matplotlib.pyplot as plt\n",
    "import math\n",
    "\n",
    "from SimPEG import maps\n",
    "from SimPEG.electromagnetics.static import resistivity as dc"
   ]
  },
  {
   "cell_type": "markdown",
   "id": "10f5b8c5",
   "metadata": {},
   "source": [
    "### Reconstruct Textbook example (Section 4 - Fig. 4.9  page 167)\n",
    "\n",
    "#### 3 layer model: \n",
    "\n",
    "$p_1 = 500 \\Omega m$   with   $t_1 = 5m$\n",
    "\n",
    "$p_2 = 200 \\Omega m$   with   $t_2 = 10m$ \n",
    "\n",
    "$p_3 = 50 \\Omega m$ or 500 \\Omega m$\n"
   ]
  },
  {
   "cell_type": "code",
   "execution_count": 3,
   "id": "23630c6e",
   "metadata": {},
   "outputs": [],
   "source": [
    "# Define the 'a' spacing for Schlumberger array measurements for each reading\n",
    "number_of_measurements=19\n",
    "\n",
    "# From 1 to 1000m logarithmic equidistant measurements\n",
    "a_b_electrode_separations = np.logspace(0.1, 3, number_of_measurements)\n",
    "m_n_electrode_separations = 0.01 * a_b_electrode_separations \n",
    "\n",
    "source_list = []  # create empty array for sources to live\n",
    "\n",
    "for ab, mn in zip(a_b_electrode_separations, m_n_electrode_separations):\n",
    "\n",
    "\n",
    "    # AB electrode locations for source. Each is a (1, 3) numpy array\n",
    "    A_location = np.r_[-ab, 0.0, 0.0]\n",
    "    B_location = np.r_[ab, 0.0, 0.0]\n",
    "\n",
    "    # MN electrode locations for receivers. Each is an (N, 3) numpy array\n",
    "    M_location = np.r_[-mn, 0.0, 0.0]\n",
    "    N_location = np.r_[mn, 0.0, 0.0]\n",
    "\n",
    "    # Create receivers list. Define as pole or dipole.\n",
    "    receiver_list = dc.receivers.Dipole(\n",
    "        M_location, N_location, data_type=\"apparent_resistivity\"\n",
    "    )\n",
    "    receiver_list = [receiver_list]\n",
    "\n",
    "    # Define the source properties and associated receivers\n",
    "    source_list.append(dc.sources.Dipole(receiver_list, A_location, B_location))\n",
    "\n",
    "# Define survey\n",
    "survey = dc.Survey(source_list)\n",
    "\n",
    "electrode_separations = 0.5 * np.sqrt(\n",
    "    np.sum((survey.locations_a - survey.locations_b) ** 2, axis=1)\n",
    ")"
   ]
  },
  {
   "cell_type": "code",
   "execution_count": 4,
   "id": "fe2cd45f",
   "metadata": {},
   "outputs": [],
   "source": [
    "# Define layer thicknesses.\n",
    "layer_thicknesses = np.r_[5.0, 10.0]\n",
    "\n",
    "# Define layer resistivities.\n",
    "model_50 = np.r_[500, 200, 50]\n",
    "\n",
    "# Define mapping from model to 1D layers.\n",
    "model_map = maps.IdentityMap(nP=len(model_50))\n",
    "\n",
    "simulation = dc.simulation_1d.Simulation1DLayers(\n",
    "    survey=survey,\n",
    "    rhoMap=model_map,\n",
    "    thicknesses=layer_thicknesses,\n",
    ")\n",
    "\n",
    "# Predict data for a given model\n",
    "prediction_model_50 = simulation.dpred(model_50)"
   ]
  },
  {
   "cell_type": "code",
   "execution_count": 5,
   "id": "7d498f52",
   "metadata": {},
   "outputs": [],
   "source": [
    "# Define layer resistivities.\n",
    "model_500 = np.r_[500, 200, 500]\n",
    "\n",
    "# Define mapping from model to 1D layers.\n",
    "model_map = maps.IdentityMap(nP=len(model_500))\n",
    "\n",
    "simulation = dc.simulation_1d.Simulation1DLayers(\n",
    "    survey=survey,\n",
    "    rhoMap=model_map,\n",
    "    thicknesses=layer_thicknesses,\n",
    ")\n",
    "\n",
    "# Predict data for a given model\n",
    "prediction_model_500 = simulation.dpred(model_500)"
   ]
  },
  {
   "cell_type": "code",
   "execution_count": 6,
   "id": "2387d841",
   "metadata": {},
   "outputs": [
    {
     "data": {
      "image/png": "[encoded data removed]",
      "text/plain": [
       "<Figure size 864x288 with 1 Axes>"
      ]
     },
     "metadata": {
      "needs_background": "light"
     },
     "output_type": "display_data"
    }
   ],
   "source": [
    "# Plot apparent resistivities on sounding curve# Plot apparent resistivities on sounding curve\n",
    "fig = plt.figure(figsize=(12, 4))\n",
    "ax1 = fig.add_axes([0.1, 0.1, 0.75, 0.85])\n",
    "ax1.loglog( a_b_electrode_separations, prediction_model_50,  marker='o', label = \"$50 \\Omega m$) lower unit\")\n",
    "ax1.loglog( a_b_electrode_separations, prediction_model_500, marker='o',label = \"$500 \\Omega m$) lower unit\")\n",
    "ax1.set_ylim([10, 1000])\n",
    "ax1.set_xlabel(\"Separation AB/2 (m)\")\n",
    "ax1.set_ylabel(r\"Apparent Resistivity ($\\Omega m$)\")\n",
    "plt.grid(True, which=\"both\", ls=\"-\")\n",
    "plt.legend()\n",
    "plt.show()\n"
   ]
  }
 ],
 "metadata": {
  "kernelspec": {
   "display_name": "Python 3 (ipykernel)",
   "language": "python",
   "name": "python3"
  },
  "language_info": {
   "codemirror_mode": {
    "name": "ipython",
    "version": 3
   },
   "file_extension": ".py",
   "mimetype": "text/x-python",
   "name": "python",
   "nbconvert_exporter": "python",
   "pygments_lexer": "ipython3",
   "version": "3.9.12"
  }
 },
 "nbformat": 4,
 "nbformat_minor": 5
}
